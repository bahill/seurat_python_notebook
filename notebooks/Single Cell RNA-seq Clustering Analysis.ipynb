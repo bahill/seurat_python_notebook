{
 "cells": [
  {
   "cell_type": "markdown",
   "metadata": {},
   "source": [
    "# Single-Cell RNA-seq Clustering Analysis Notebook\n",
    "\n",
    "*This notebook was last modified on Wednesday, `2-28-2018`.*\n",
    "\n",
    "**Author** - Clarence Mah\n",
    "<br>\n",
    "**Email** - ckmah.ucsd.edu\n",
    "\n",
    "This notebook analyzes a dataset of *Peripheral Blood Mononuclear Cells (PBMCs) from a Healthy Donor* available from 10X Genomics, sequenced on the Illumina NextSeq 500. Steps are modeled after the [Seurat Guided Clustering Tutorial](http://satijalab.org/seurat/pbmc3k_tutorial.html) using the [scanpy](https://github.com/theislab/scanpy) library. \n",
    "\n",
    "### Objective\n",
    "The goal of this notebook is to perform a standard pre-processing workflow for scRNA-seq data, seperate sub-populations of cells by clustering, and explore biomarkers to identify potential cell types within the population of cells.\n",
    "\n",
    "### Dataset\n",
    "The example dataset consists of the expression of 2,700 single PBMCs.\n",
    "\n",
    "### Analysis Overview\n",
    "\n",
    "1. **Setup Analysis**\n",
    "    1. Load raw counts dataset.\n",
    "2. **Preprocess Counts**\n",
    "    1. Filter cells based on QC metrics.\n",
    "    2. Perform data normalization and scaling.\n",
    "    3. Remove unwanted sources of variation (number of detected molecules per cell as well as the percentage mitochondrial gene content).\n",
    "    4. Detect highly variable genes.\n",
    "    5. Perform linear dimensional reduction (PCA).\n",
    "3. **Cluster Cells**\n",
    "    1. Cluster cells (graph-based clustering) in PCA space and visualize using t-SNE.\n",
    "4. **Visualize Cluster Markers**\n",
    "    1. Explore and visualize cluster markers.\n",
    "5. **Export Analysis Data**\n",
    "    1. Export data to `.csv` files or a compressed `.h5ad` format.\n",
    "\n",
    "\n"
   ]
  },
  {
   "cell_type": "markdown",
   "metadata": {},
   "source": [
    "# Step 1: Setup Analysis\n",
    "\n",
    "<div class=\"alert alert-info\">\n",
    "<h3 style=\"position: relative; top: -10px\">Instructions</h3>\n",
    "<p>Load a raw count matrix for a single-cell RNA-seq experiment. Remove lowly expressed genes and cells with low expression. Currently, flat count matrices and 10X Genomics gene-barcode matrices formats are supported.</p>\n",
    "\n",
    "<h4>Supported file formats</h4>\n",
    "<ul>\n",
    "    <li>1. 10x gene-barcode matrix: consists of 3 files named `matrix.mtx`, `genes.tsv`, and `barcodes.tsv` in the same directory.</li>\n",
    "    <li>2. tab-delimitted text file: a single .txt or .tsv file with genes as rows and samples as columns.</li>\n",
    "</ul>\n",
    "</div>"
   ]
  },
  {
   "cell_type": "code",
   "execution_count": null,
   "metadata": {
    "ExecuteTime": {
     "end_time": "2018-02-23T23:28:24.776579Z",
     "start_time": "2018-02-23T23:28:15.664981Z"
    },
    "genepattern": {
     "output_variable": "",
     "param_values": {
      "barcodes_filepath": "../data/barcodes.tsv",
      "genes_filepath": "../data/genes.tsv",
      "matrix_filepath": "../data/matrix.mtx",
      "min_cells": "3",
      "min_genes": "200",
      "self": ""
     },
     "show_code": false,
     "type": "uibuilder"
    },
    "scrolled": false
   },
   "outputs": [],
   "source": [
    "import genepattern\n",
    "\n",
    "import sys\n",
    "sys.path.append('../scripts/')\n",
    "from singlecell import SingleCellAnalysis\n",
    "\n",
    "analysis = SingleCellAnalysis()\n",
    "\n",
    "%matplotlib inline\n",
    "%load_ext autoreload\n",
    "%autoreload 2\n",
    "\n",
    "genepattern.GPUIBuilder(\n",
    "    analysis.setup_analysis,\n",
    "    function_import='analysis.setup_analysis',\n",
    "    name='Setup Analysis',\n",
    "    parameters={\n",
    "        'matrix_filepath': {\n",
    "            'name': 'counts file',\n",
    "            'description': 'Provide either a 10X Genomics gene-barcode matrix file (.mtx file) or a text file (.txt, .tsv, or .csv files). Note: if a text file is provided, the \"barcodes file\", and \"genes file\" will be ignored.',\n",
    "            'type': 'file',\n",
    "            'default': '../data/matrix.mtx'\n",
    "        },\n",
    "        'barcodes_filepath': {\n",
    "            'name': 'barcodes file',\n",
    "            'description': 'Provide a 10X Genomics gene-barcode matrix barcodes file (barcodes.tsv).',\n",
    "            'type': 'file',\n",
    "            'default': '../data/barcodes.tsv'\n",
    "        },\n",
    "        'genes_filepath': {\n",
    "            'name': 'genes file',\n",
    "            'description': 'Provide a 10X Genomics gene-barcode matrix gene file (gene.tsv).',\n",
    "            'type': 'file',\n",
    "            'default': '../data/genes.tsv'\n",
    "        },\n",
    "        'output_var': {\n",
    "            'hide': True\n",
    "        }\n",
    "    }\n",
    ")"
   ]
  },
  {
   "cell_type": "markdown",
   "metadata": {},
   "source": [
    "# Step 2: Preprocess Counts\n",
    "\n",
    "<div class=\"alert alert-info\">\n",
    "<h3 style=\"position: relative; top: -10px\">Instructions</h3>\n",
    "<p>Use the quality metrics displayed in the output of **Step 1** to detect outlier cells and set ranges to filter them. Removing unwanted sources of variation may take some time to complete.</p>\n",
    "</div>"
   ]
  },
  {
   "cell_type": "code",
   "execution_count": null,
   "metadata": {
    "ExecuteTime": {
     "end_time": "2018-02-23T23:28:24.858925Z",
     "start_time": "2018-02-23T23:28:24.778400Z"
    },
    "genepattern": {
     "output_variable": "",
     "param_values": {
      "data": "analysis",
      "max_n_counts": "15000",
      "max_n_genes": "2500",
      "max_percent_mito": "15",
      "min_n_cells": "3",
      "min_n_counts": "0",
      "min_n_genes": "200",
      "min_percent_mito": "0",
      "normalization_method": "LogNormalize"
     },
     "show_code": false,
     "type": "uibuilder"
    },
    "scrolled": false
   },
   "outputs": [],
   "source": [
    "genepattern.GPUIBuilder(\n",
    "    analysis.preprocess_counts,\n",
    "    function_import='analysis.preprocess_counts',\n",
    "    name='Preprocess Counts',\n",
    "    parameters={\n",
    "        'data': {\n",
    "            'description': 'Output from the \"Setup Analysis\" tool.',\n",
    "            'default': 'analysis'\n",
    "        },\n",
    "        \n",
    "        'min_n_cells': {\n",
    "            'name': 'filter genes (min. # of cells)',\n",
    "            'description': 'Include genes expressed in at least this many cells. Blank will be treated as 0.',\n",
    "            'type': 'number',\n",
    "            'default': 3\n",
    "        },\n",
    "        \n",
    "        'min_n_genes': {\n",
    "            'name': 'filter cells (min. # of genes)',\n",
    "            'description': 'Include cells with at least this many genes. Blank will be treated as 0.',\n",
    "            'type': 'number',\n",
    "            'default': 200\n",
    "        },\n",
    "        'max_n_genes': {\n",
    "            'name': 'filter cells (max # of genes)',\n",
    "            'description': 'Include cells with at most this many genes. Blank will be treated as no maximum value.',\n",
    "            'type': 'number',\n",
    "            'default': 2500\n",
    "        },\n",
    "        'min_n_counts': {\n",
    "            'name': 'filter cells (min. total counts)',\n",
    "            'description': 'Include cells with at least this many counts. Blank will be treated as 0.',\n",
    "            'type': 'number',\n",
    "            'default': 0\n",
    "        },\n",
    "        'max_n_counts': {\n",
    "            'name': 'filter cells (max total counts)',\n",
    "            'description': 'Include cells with at most this many counts. Blank will be treated as no maximum value.',\n",
    "            'type': 'number',\n",
    "            'default': 15000\n",
    "        },\n",
    "\n",
    "        'min_percent_mito': {\n",
    "            'name': 'filter cells (min. % mito. genes)',\n",
    "            'description': 'Include cells with at least this % of genes that are mitochondrial genes. Blank will be treated as 0.',\n",
    "            'type': 'number',\n",
    "            'default': 0\n",
    "        },\n",
    "        'max_percent_mito': {\n",
    "            'name': 'filter cells (max % mito. genes)',\n",
    "            'description': 'Include cells with at most this % of genes that are mitochondrial genes. Blank will be treated as no maximum value.',\n",
    "            'type': 'number',\n",
    "            'default': 15\n",
    "        },\n",
    "        'normalization_method': {\n",
    "            'name': 'log normalize',\n",
    "            'description': 'Perform log normalization on the data.',\n",
    "            'choices': {'Yes': 'LogNormalize', 'No': ''}\n",
    "        },\n",
    "        'output_var': {\n",
    "            'hide': True\n",
    "        }\n",
    "    })"
   ]
  },
  {
   "cell_type": "markdown",
   "metadata": {},
   "source": [
    "# Step 3: Cluster Cells\n",
    "\n",
    "<div class=\"alert alert-info\">\n",
    "<h3 style=\"position: relative; top: -10px\">Instructions</h3>\n",
    "Perform clustering and visualization of the cells using the sliders to tune parameters. Look at the plot in **Step 2** showing the standard deviations of the principle components and draw a cutoff where there is a clear elbow in the graph. The components to the left of this cutoff are then used to cluster the cells.\n",
    "</div>"
   ]
  },
  {
   "cell_type": "code",
   "execution_count": null,
   "metadata": {
    "ExecuteTime": {
     "end_time": "2018-02-23T23:28:24.911333Z",
     "start_time": "2018-02-23T23:28:24.861649Z"
    },
    "genepattern": {
     "output_variable": "",
     "param_values": {
      "data": "analysis",
      "pcs": "10",
      "perplexity": "30",
      "resolution": "1.2"
     },
     "show_code": false,
     "type": "uibuilder"
    }
   },
   "outputs": [],
   "source": [
    "genepattern.GPUIBuilder(\n",
    "    analysis.cluster_cells,\n",
    "    function_import='analysis.cluster_cells',\n",
    "    name='Open Cell Clustering Interface',\n",
    "    description='This step outputs an interactive interface to cluster cells.',\n",
    "    parameters={\n",
    "        'data': {\n",
    "            'name': 'analysis object',\n",
    "            'description': 'Use the output variable from \"Step 2\".',\n",
    "            'default': 'analysis'\n",
    "        },\n",
    "        'pcs': {\n",
    "            'name': '# of components',\n",
    "            'description': 'The number of principal components to use to cluster cells. Determine the number of principal components (PCs) to use by drawing a cutoff where there is a clear elbow in the graph above.'\n",
    "        },\n",
    "        'resolution': {\n",
    "            'description': 'Higher resolution means more and smaller clusters. We find that values 0.6-1.2 typically returns good results for single cell datasets of around 3K cells. Optimal resolution often increases for larger datasets.'\n",
    "        },\n",
    "        'perplexity': {\n",
    "            'description': 'The perplexity parameter loosely models the number of close neighbors each point has.'\n",
    "        },\n",
    "        'output_var': {\n",
    "            'hide': True\n",
    "        }\n",
    "    })"
   ]
  },
  {
   "cell_type": "markdown",
   "metadata": {},
   "source": [
    "# Step 4: Visualize Cluster Markers\n",
    "\n",
    "<div class=\"alert alert-info\">\n",
    "<h3 style=\"position: relative; top: -10px\">Instructions</h3>\n",
    "Visualization the expression of markers on the clustering plot. Explore genes that are differentially expressed expessed in clusters as potential biomarkers.\n",
    "<br><br>\n",
    "The following are canonical markers that mark known cell types in this dataset. These can be used to identify what cell types are present and how they correspond to clusters.\n",
    "</div>\n",
    "\n",
    "| Cell Type | Markers |\n",
    "| --------- | ------- |\n",
    "| CD4 T Cells | IL7R |\n",
    "| LYZCD14+ Monocytes | CD14 |\n",
    "| B cells | MS4A1 |\n",
    "| CD8 T cells | CD8A |\n",
    "| FCGR3A+ Monocytes | FCGR3A, MS4A7 |\n",
    "| NK cells | GNLY, NKG7 |\n",
    "| Dendritic Cells | GCER1A, CST32 |\n",
    "| Megakaryocytes | PPBP |"
   ]
  },
  {
   "cell_type": "code",
   "execution_count": null,
   "metadata": {
    "ExecuteTime": {
     "end_time": "2018-02-23T23:28:24.953856Z",
     "start_time": "2018-02-23T23:28:24.913104Z"
    },
    "genepattern": {
     "param_values": {
      "data": "analysis"
     },
     "show_code": true,
     "type": "uibuilder"
    }
   },
   "outputs": [],
   "source": [
    "genepattern.GPUIBuilder(\n",
    "    analysis.visualize_markers,\n",
    "    function_import='analysis.visualize_markers',\n",
    "    name='Open Visualize Cluster Markers Interface',\n",
    "    description='This step outputs an interactive interface to explore gene expression in clusters of cells.',\n",
    "    parameters={\n",
    "        'output_var': {\n",
    "            'hide': True\n",
    "        }\n",
    "    }\n",
    ")"
   ]
  },
  {
   "cell_type": "markdown",
   "metadata": {},
   "source": [
    "# Step 5: Export Analysis Data\n",
    "\n",
    "<div class=\"alert alert-info\">\n",
    "<h3 style=\"position: relative; top: -10px\">Instructions</h3>\n",
    "Export results as a series of <code>.csv</code> files or compressed <code>.hda5</code> file.</div>\n",
    "\n",
    "### Relevant Files\n",
    "\n",
    "`X.csv` - The preprocessed expression matrix of cells (rows) by genes (columns). This only includes variable genes, usually a much smaller subset of genes compared to the raw counts.\n",
    "\n",
    "`obs.csv` - Cell annotations including # of genes, % mitochondrial genes,  and cluster assignments.\n",
    "\n",
    "`obsm.csv` - Coordinates of cells in various dimensional reduction spaces (e.g., PCA, t-SNE).\n",
    "\n",
    "`var.csv` - Gene annotations (of variable genes) including the # of cells, mean expression, dispersion, and normalized dispersion statistics.\n",
    "\n",
    "`varm.csv` - Loadings of cells in various dimensional reduction spaces (e.g., PCA, t-SNE).\n",
    "\n",
    "`uns/pca_variance_ratio.csv` - % variance explained by each principal component.\n",
    "\n",
    "`uns/rank_genes_groups_gene_names.csv` - Names of the top ranked marker genes for each cluster.\n",
    "\n",
    "`uns/rank_genes_groups_gene_scores.csv` - z-scores of the top ranked marker genes for each cluster."
   ]
  },
  {
   "cell_type": "code",
   "execution_count": null,
   "metadata": {
    "ExecuteTime": {
     "end_time": "2018-02-23T23:28:25.000607Z",
     "start_time": "2018-02-23T23:28:24.955755Z"
    },
    "genepattern": {
     "output_variable": "",
     "param_values": {
      "data": "analysis",
      "h5ad": "false",
      "path": "../data/analysis"
     },
     "show_code": false,
     "type": "uibuilder"
    },
    "scrolled": false
   },
   "outputs": [],
   "source": [
    "genepattern.GPUIBuilder(\n",
    "    analysis.export_data,\n",
    "    function_import='analysis.export_data',\n",
    "    name='Export Analysis Data',\n",
    "    description='Export data as a series of .csv files or compressed .hda5 file.',\n",
    "    parameters={\n",
    "        'path': {\n",
    "            'name': 'filepath',\n",
    "            'description': 'Name of directory where file(s) will be saved. Exporting as an h5ad file produces a single file output.',\n",
    "            'default': '../data/analysis'\n",
    "        },\n",
    "        'h5ad': {\n",
    "            'name': 'file format',\n",
    "            'description': 'Choose to save either as .csv files or as a single compressed .h5ad-formatted hdf5 file. It is recommended to export .csv files unless you know what you are doing.',\n",
    "            'default': False,\n",
    "            'choices': {\n",
    "                'Comma-separated values (.csv)': False,\n",
    "                'H5AD file (HDF5 file in the AnnData formatting convention)': True\n",
    "            },\n",
    "        },\n",
    "        'output_var': {\n",
    "            'hide': True\n",
    "        }\n",
    "    }\n",
    ")"
   ]
  }
 ],
 "metadata": {
  "kernelspec": {
   "display_name": "Python 3",
   "language": "python",
   "name": "python3"
  },
  "language_info": {
   "codemirror_mode": {
    "name": "ipython",
    "version": 3
   },
   "file_extension": ".py",
   "mimetype": "text/x-python",
   "name": "python",
   "nbconvert_exporter": "python",
   "pygments_lexer": "ipython3",
   "version": "3.6.1"
  },
  "varInspector": {
   "cols": {
    "lenName": 16,
    "lenType": 16,
    "lenVar": 40
   },
   "kernels_config": {
    "python": {
     "delete_cmd_postfix": "",
     "delete_cmd_prefix": "del ",
     "library": "var_list.py",
     "varRefreshCmd": "print(var_dic_list())"
    },
    "r": {
     "delete_cmd_postfix": ") ",
     "delete_cmd_prefix": "rm(",
     "library": "var_list.r",
     "varRefreshCmd": "cat(var_dic_list()) "
    }
   },
   "types_to_exclude": [
    "module",
    "function",
    "builtin_function_or_method",
    "instance",
    "_Feature"
   ],
   "window_display": false
  }
 },
 "nbformat": 4,
 "nbformat_minor": 2
}
